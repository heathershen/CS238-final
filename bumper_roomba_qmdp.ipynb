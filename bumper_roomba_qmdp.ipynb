{
 "cells": [
  {
   "cell_type": "code",
   "execution_count": 2,
   "metadata": {},
   "outputs": [
    {
     "name": "stdout",
     "output_type": "stream",
     "text": [
      "\u001b[32m\u001b[1m  Updating\u001b[22m\u001b[39m registry at `~/.julia/registries/General`\n",
      "\u001b[32m\u001b[1m  Updating\u001b[22m\u001b[39m git-repo `https://github.com/JuliaRegistries/General.git`\n",
      "\u001b[2K\u001b[?25h[1mFetching:\u001b[22m\u001b[39m [========================================>]  100.0 %.0 %\u001b[32m\u001b[1m  Updating\u001b[22m\u001b[39m registry at `~/.julia/registries/JuliaPOMDP`\n",
      "\u001b[32m\u001b[1m  Updating\u001b[22m\u001b[39m git-repo `https://github.com/JuliaPOMDP/Registry`\n",
      "\u001b[?25l\u001b[2K\u001b[?25h\u001b[32m\u001b[1m  Building\u001b[22m\u001b[39m LibCURL ─→ `~/.julia/packages/LibCURL/OoXMv/deps/build.log`\n",
      "\u001b[32m\u001b[1m  Building\u001b[22m\u001b[39m WinRPM ──→ `~/.julia/packages/WinRPM/Y9QdZ/deps/build.log`\n",
      "\u001b[32m\u001b[1m  Building\u001b[22m\u001b[39m Homebrew → `~/.julia/packages/Homebrew/l8kUw/deps/build.log`\n",
      "\u001b[32m\u001b[1m  Building\u001b[22m\u001b[39m Cairo ───→ `~/.julia/packages/Cairo/CXPG1/deps/build.log`\n"
     ]
    }
   ],
   "source": [
    "# activate project environment\n",
    "# include these lines of code in any future scripts/notebooks\n",
    "#---\n",
    "import Pkg\n",
    "if !haskey(Pkg.installed(), \"AA228FinalProject\")\n",
    "    jenv = joinpath(dirname(@__FILE__()), \".\") # this assumes the notebook is in the same dir\n",
    "    # as the Project.toml file, which should be in top level dir of the project. \n",
    "    # Change accordingly if this is not the case.\n",
    "    Pkg.activate(jenv)\n",
    "end\n",
    "Pkg.instantiate()\n",
    "Pkg.build(\"Cairo\")\n",
    "#---"
   ]
  },
  {
   "cell_type": "code",
   "execution_count": 3,
   "metadata": {},
   "outputs": [
    {
     "name": "stdout",
     "output_type": "stream",
     "text": [
      "\u001b[32m\u001b[1m Resolving\u001b[22m\u001b[39m package versions...\n",
      "\u001b[32m\u001b[1m Installed\u001b[22m\u001b[39m ImageShow ───────── v0.1.2\n",
      "\u001b[32m\u001b[1m Installed\u001b[22m\u001b[39m AbstractTrees ───── v0.2.1\n",
      "\u001b[32m\u001b[1m Installed\u001b[22m\u001b[39m Compat ──────────── v1.4.0\n",
      "\u001b[32m\u001b[1m Installed\u001b[22m\u001b[39m CategoricalArrays ─ v0.5.0\n",
      "\u001b[32m\u001b[1m Installed\u001b[22m\u001b[39m BinaryProvider ──── v0.5.3\n",
      "\u001b[32m\u001b[1m Installed\u001b[22m\u001b[39m JSON ────────────── v0.20.0\n",
      "\u001b[32m\u001b[1m Installed\u001b[22m\u001b[39m ImageFiltering ──── v0.5.1\n",
      "\u001b[32m\u001b[1m Installed\u001b[22m\u001b[39m ProgressMeter ───── v0.8.0\n",
      "\u001b[32m\u001b[1m Installed\u001b[22m\u001b[39m OffsetArrays ────── v0.9.0\n",
      "\u001b[32m\u001b[1m Installed\u001b[22m\u001b[39m StatsBase ───────── v0.26.0\n",
      "\u001b[32m\u001b[1m Installed\u001b[22m\u001b[39m FileIO ──────────── v1.0.4\n",
      "\u001b[32m\u001b[1m Installed\u001b[22m\u001b[39m Interpolations ──── v0.11.0\n",
      "\u001b[32m\u001b[1m  Updating\u001b[22m\u001b[39m `~/Kapow/Docs/Stanford/Coterm/CS238/Final Project/CS238-final/Project.toml`\n",
      " \u001b[90m [df77095f]\u001b[39m\u001b[92m + TabularTDLearning v0.2.0\u001b[39m\n",
      "\u001b[32m\u001b[1m  Updating\u001b[22m\u001b[39m `~/Kapow/Docs/Stanford/Coterm/CS238/Final Project/CS238-final/Manifest.toml`\n",
      " \u001b[90m [1520ce14]\u001b[39m\u001b[93m ↑ AbstractTrees v0.2.0 ⇒ v0.2.1\u001b[39m\n",
      " \u001b[90m [b99e7846]\u001b[39m\u001b[93m ↑ BinaryProvider v0.5.2 ⇒ v0.5.3\u001b[39m\n",
      " \u001b[90m [324d7699]\u001b[39m\u001b[93m ↑ CategoricalArrays v0.4.0 ⇒ v0.5.0\u001b[39m\n",
      " \u001b[90m [34da2185]\u001b[39m\u001b[93m ↑ Compat v1.3.0 ⇒ v1.4.0\u001b[39m\n",
      " \u001b[90m [5789e2e9]\u001b[39m\u001b[93m ↑ FileIO v1.0.2 ⇒ v1.0.4\u001b[39m\n",
      " \u001b[90m [6a3955dd]\u001b[39m\u001b[93m ↑ ImageFiltering v0.5.0 ⇒ v0.5.1\u001b[39m\n",
      " \u001b[90m [4e3cecfd]\u001b[39m\u001b[93m ↑ ImageShow v0.1.1 ⇒ v0.1.2\u001b[39m\n",
      " \u001b[90m [a98d9a8b]\u001b[39m\u001b[93m ↑ Interpolations v0.10.5 ⇒ v0.11.0\u001b[39m\n",
      " \u001b[90m [682c06a0]\u001b[39m\u001b[93m ↑ JSON v0.19.0 ⇒ v0.20.0\u001b[39m\n",
      " \u001b[90m [6fe1bfb0]\u001b[39m\u001b[93m ↑ OffsetArrays v0.8.1 ⇒ v0.9.0\u001b[39m\n",
      " \u001b[90m [92933f4c]\u001b[39m\u001b[93m ↑ ProgressMeter v0.6.1 ⇒ v0.8.0\u001b[39m\n",
      " \u001b[90m [2913bbd2]\u001b[39m\u001b[93m ↑ StatsBase v0.25.0 ⇒ v0.26.0\u001b[39m\n",
      " \u001b[90m [df77095f]\u001b[39m\u001b[92m + TabularTDLearning v0.2.0\u001b[39m\n"
     ]
    },
    {
     "name": "stderr",
     "output_type": "stream",
     "text": [
      "┌ Info: Recompiling stale cache file /Users/sarahradz/.julia/compiled/v1.0/AA228FinalProject/uFJfC.ji for AA228FinalProject [fe2df5ea-4d44-4e5a-a895-9dbc87b19b37]\n",
      "└ @ Base loading.jl:1190\n",
      "┌ Info: Recompiling stale cache file /Users/sarahradz/.julia/compiled/v1.0/TabularTDLearning/rz6kH.ji for TabularTDLearning [df77095f-98f0-51e5-a706-d0ff5a5ad33f]\n",
      "└ @ Base loading.jl:1190\n",
      "┌ Info: Recompiling stale cache file /Users/sarahradz/.julia/compiled/v1.0/FIB/05WTx.ji for FIB [13b007ba-0ca8-5af2-9adf-bc6a6301e25a]\n",
      "└ @ Base loading.jl:1190\n"
     ]
    }
   ],
   "source": [
    "# import necessary packages\n",
    "Pkg.add(\"TabularTDLearning\")\n",
    "using AA228FinalProject\n",
    "using TabularTDLearning\n",
    "using POMDPs\n",
    "using FIB # For the solver\n",
    "using POMDPPolicies\n",
    "using BeliefUpdaters\n",
    "using ParticleFilters\n",
    "using POMDPSimulators\n",
    "using Cairo\n",
    "using Gtk\n",
    "using Random\n",
    "using Printf"
   ]
  },
  {
   "cell_type": "code",
   "execution_count": 3,
   "metadata": {},
   "outputs": [
    {
     "data": {
      "text/plain": [
       "RoombaPOMDP{Bumper,Bool}(Bumper(), RoombaMDP{DiscreteRoombaStateSpace,Array{RoombaAct,1}}\n",
       "  v_max: Float64 10.0\n",
       "  om_max: Float64 1.0\n",
       "  dt: Float64 0.5\n",
       "  contact_pen: Float64 -1.0\n",
       "  time_pen: Float64 -0.1\n",
       "  goal_reward: Float64 10.0\n",
       "  stairs_penalty: Float64 -10.0\n",
       "  config: Int64 3\n",
       "  room: AA228FinalProject.Room\n",
       "  sspace: DiscreteRoombaStateSpace\n",
       "  aspace: Array{RoombaAct}((100,))\n",
       "  _amap: Dict{RoombaAct,Int64}\n",
       ")"
      ]
     },
     "execution_count": 3,
     "metadata": {},
     "output_type": "execute_result"
    }
   ],
   "source": [
    "sensor = Bumper()\n",
    "config = 3 # 1,2, or 3\n",
    "ds = DiscreteRoombaStateSpace(50, 50, 50)\n",
    "v_steps = range(0.0, stop = 10.0, length = 10) |> collect\n",
    "om_steps = range(0.0, stop = 1.0, length = 10) |> collect\n",
    "as = AA228FinalProject.gen_amap([RoombaAct(v,om) for v in v_steps for om in om_steps])\n",
    "\n",
    "m = RoombaPOMDP(sensor=sensor, mdp=RoombaMDP(sspace=ds, aspace=[RoombaAct(v,om) for v in v_steps for om in om_steps], config=config))\n"
   ]
  },
  {
   "cell_type": "code",
   "execution_count": 1,
   "metadata": {},
   "outputs": [
    {
     "ename": "UndefVarError",
     "evalue": "UndefVarError: FIBSolver not defined",
     "output_type": "error",
     "traceback": [
      "UndefVarError: FIBSolver not defined",
      "",
      "Stacktrace:",
      " [1] top-level scope at In[1]:1"
     ]
    }
   ],
   "source": [
    "# num_particles = 2000\n",
    "# resampler = BumperResampler(num_particles)\n",
    "\n",
    "# spf = SimpleParticleFilter(m, resampler)\n",
    "\n",
    "# v_noise_coefficient = 2.0\n",
    "# om_noise_coefficient = 0.5\n",
    "\n",
    "# belief_updater = RoombaParticleFilter(spf, v_noise_coefficient, om_noise_coefficient);\n",
    "\n",
    "solver = FIBSolver()\n",
    "policy = solve(solver, m)"
   ]
  },
  {
   "cell_type": "code",
   "execution_count": null,
   "metadata": {},
   "outputs": [],
   "source": [
    "# first seed the environment\n",
    "Random.seed!(5)\n",
    "\n",
    "# run the simulation\n",
    "c = @GtkCanvas()\n",
    "win = GtkWindow(c, \"Roomba Environment\", 600, 600)\n",
    "for (t, step) in enumerate(stepthrough(m, policy, belief_updater, max_steps=100))\n",
    "    @guarded draw(c) do widget\n",
    "        \n",
    "        # the following lines render the room, the particles, and the roomba\n",
    "        ctx = getgc(c)\n",
    "        set_source_rgb(ctx,1,1,1)\n",
    "        paint(ctx)\n",
    "        render(ctx, m, step)\n",
    "        \n",
    "        # render some information that can help with debugging\n",
    "        # here, we render the time-step, the state, and the observation\n",
    "        move_to(ctx,300,400)\n",
    "        show_text(ctx, @sprintf(\"t=%d, state=%s, o=%.3f\",t,string(step.s),step.o))\n",
    "    end\n",
    "    show(c)\n",
    "    sleep(0.1) # to slow down the simulation\n",
    "end"
   ]
  }
 ],
 "metadata": {
  "kernelspec": {
   "display_name": "Julia 1.0.1",
   "language": "julia",
   "name": "julia-1.0"
  },
  "language_info": {
   "file_extension": ".jl",
   "mimetype": "application/julia",
   "name": "julia",
   "version": "1.0.2"
  }
 },
 "nbformat": 4,
 "nbformat_minor": 2
}
