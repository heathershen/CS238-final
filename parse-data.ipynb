{
 "cells": [
  {
   "cell_type": "code",
   "execution_count": 1,
   "metadata": {},
   "outputs": [],
   "source": [
    "import pandas as pd\n",
    "import numpy as np"
   ]
  },
  {
   "cell_type": "code",
   "execution_count": 8,
   "metadata": {},
   "outputs": [],
   "source": [
    "D = pd.read_csv(\"all/train.csv\")"
   ]
  },
  {
   "cell_type": "code",
   "execution_count": 9,
   "metadata": {},
   "outputs": [
    {
     "data": {
      "text/plain": [
       "Index([u'Semana', u'Agencia_ID', u'Canal_ID', u'Ruta_SAK', u'Cliente_ID',\n",
       "       u'Producto_ID', u'Venta_uni_hoy', u'Venta_hoy', u'Dev_uni_proxima',\n",
       "       u'Dev_proxima', u'Demanda_uni_equil'],\n",
       "      dtype='object')"
      ]
     },
     "execution_count": 9,
     "metadata": {},
     "output_type": "execute_result"
    }
   ],
   "source": [
    "D.columns"
   ]
  },
  {
   "cell_type": "code",
   "execution_count": 11,
   "metadata": {},
   "outputs": [
    {
     "data": {
      "text/plain": [
       "30549.0"
      ]
     },
     "execution_count": 11,
     "metadata": {},
     "output_type": "execute_result"
    }
   ],
   "source": [
    "np.median(D['Producto_ID'])"
   ]
  },
  {
   "cell_type": "code",
   "execution_count": 28,
   "metadata": {},
   "outputs": [],
   "source": [
    "# Semana — Week number (From Thursday to Wednesday)\n",
    "# Agencia_ID — Sales Depot ID\n",
    "# Canal_ID — Sales Channel ID\n",
    "# Ruta_SAK — Route ID (Several routes = Sales Depot)\n",
    "# Cliente_ID — Client ID\n",
    "# NombreCliente — Client name\n",
    "# Producto_ID — Product ID\n",
    "# NombreProducto — Product Name\n",
    "# Venta_uni_hoy — Sales unit this week (integer)\n",
    "# Venta_hoy — Sales this week (unit: pesos)\n",
    "# Dev_uni_proxima — Returns unit next week (integer)\n",
    "# Dev_proxima — Returns next week (unit: pesos)\n",
    "# Demanda_uni_equil — Adjusted Demand (integer) (This is the target you will predict)\n",
    "\n",
    "# For the milestone just focus on one product\n",
    "\n",
    "time = 'Semana'\n",
    "clientID = 'Cliente_ID'\n",
    "productID = 'Producto_ID'\n",
    "salesUnits = 'Venta_uni_hoy'\n",
    "salesPesos = 'Venta_hoy'\n",
    "returnUnits = 'Dev_uni_proxima'\n",
    "returnPesos = 'Dev_proxima'\n",
    "\n",
    "train = D.loc[D[productID] == 30549]"
   ]
  },
  {
   "cell_type": "code",
   "execution_count": 24,
   "metadata": {},
   "outputs": [],
   "source": [
    "maxSold = max(train[salesUnits])"
   ]
  },
  {
   "cell_type": "code",
   "execution_count": 26,
   "metadata": {},
   "outputs": [
    {
     "name": "stdout",
     "output_type": "stream",
     "text": [
      "         Semana  Agencia_ID  Canal_ID  Ruta_SAK  Cliente_ID  Producto_ID  \\\n",
      "7466095       3        1976         5      3006      653378        30549   \n",
      "\n",
      "         Venta_uni_hoy  Venta_hoy  Dev_uni_proxima  Dev_proxima  \\\n",
      "7466095            297    2200.77                1         7.41   \n",
      "\n",
      "         Demanda_uni_equil  \n",
      "7466095                296  \n"
     ]
    }
   ],
   "source": [
    "print train.loc[train[salesUnits] == maxSold]"
   ]
  },
  {
   "cell_type": "code",
   "execution_count": 31,
   "metadata": {},
   "outputs": [
    {
     "name": "stdout",
     "output_type": "stream",
     "text": [
      "3 9\n"
     ]
    }
   ],
   "source": [
    "print min(train[time]), max(train[time])"
   ]
  },
  {
   "cell_type": "code",
   "execution_count": null,
   "metadata": {},
   "outputs": [],
   "source": []
  }
 ],
 "metadata": {
  "kernelspec": {
   "display_name": "Python 3",
   "language": "python",
   "name": "python3"
  },
  "language_info": {
   "codemirror_mode": {
    "name": "ipython",
    "version": 2
   },
   "file_extension": ".py",
   "mimetype": "text/x-python",
   "name": "python",
   "nbconvert_exporter": "python",
   "pygments_lexer": "ipython2",
   "version": "2.7.14"
  }
 },
 "nbformat": 4,
 "nbformat_minor": 2
}
