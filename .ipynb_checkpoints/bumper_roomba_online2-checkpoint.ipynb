{
 "cells": [
  {
   "cell_type": "code",
   "execution_count": 1,
   "metadata": {},
   "outputs": [
    {
     "name": "stdout",
     "output_type": "stream",
     "text": [
      "\u001b[32m\u001b[1m  Updating\u001b[22m\u001b[39m registry at `~/.julia/registries/General`\n",
      "\u001b[32m\u001b[1m  Updating\u001b[22m\u001b[39m git-repo `https://github.com/JuliaRegistries/General.git`\n",
      "\u001b[?25l\u001b[2K\u001b[?25h\u001b[32m\u001b[1m  Updating\u001b[22m\u001b[39m registry at `~/.julia/registries/JuliaPOMDP`\n",
      "\u001b[32m\u001b[1m  Updating\u001b[22m\u001b[39m git-repo `https://github.com/JuliaPOMDP/Registry`\n",
      "\u001b[?25l\u001b[2K\u001b[?25h\u001b[32m\u001b[1m  Building\u001b[22m\u001b[39m LibCURL ─→ `~/.julia/packages/LibCURL/OoXMv/deps/build.log`\n",
      "\u001b[32m\u001b[1m  Building\u001b[22m\u001b[39m WinRPM ──→ `~/.julia/packages/WinRPM/Y9QdZ/deps/build.log`\n",
      "\u001b[32m\u001b[1m  Building\u001b[22m\u001b[39m Homebrew → `~/.julia/packages/Homebrew/l8kUw/deps/build.log`\n",
      "\u001b[32m\u001b[1m  Building\u001b[22m\u001b[39m Cairo ───→ `~/.julia/packages/Cairo/CXPG1/deps/build.log`\n"
     ]
    }
   ],
   "source": [
    "# activate project environment\n",
    "# include these lines of code in any future scripts/notebooks\n",
    "#---\n",
    "import Pkg\n",
    "if !haskey(Pkg.installed(), \"AA228FinalProject\")\n",
    "    jenv = joinpath(dirname(@__FILE__()), \".\") # this assumes the notebook is in the same dir\n",
    "    # as the Project.toml file, which should be in top level dir of the project. \n",
    "    # Change accordingly if this is not the case.\n",
    "    Pkg.activate(jenv)\n",
    "end\n",
    "Pkg.instantiate()\n",
    "Pkg.build(\"Cairo\")\n",
    "#---"
   ]
  },
  {
   "cell_type": "code",
   "execution_count": 7,
   "metadata": {
    "scrolled": true
   },
   "outputs": [
    {
     "name": "stdout",
     "output_type": "stream",
     "text": [
      "\u001b[32m\u001b[1m Resolving\u001b[22m\u001b[39m package versions...\n",
      "\u001b[32m\u001b[1m  Updating\u001b[22m\u001b[39m `Project.toml`\n",
      "\u001b[90m [no changes]\u001b[39m\n",
      "\u001b[32m\u001b[1m  Updating\u001b[22m\u001b[39m `Manifest.toml`\n",
      "\u001b[90m [no changes]\u001b[39m\n"
     ]
    },
    {
     "name": "stderr",
     "output_type": "stream",
     "text": [
      "┌ Info: Precompiling JLD [4138dd39-2aa7-5051-a626-17a0bb65d9c8]\n",
      "└ @ Base loading.jl:1186\n",
      "┌ Warning: Module Compat with build ID 6365704415035 is missing from the cache.\n",
      "│ This may mean Compat [34da2185-b29b-5c13-b0c7-acf172513d20] does not support precompilation but is imported by a module that does.\n",
      "└ @ Base loading.jl:941\n",
      "┌ Warning: Module Compat with build ID 6365704415035 is missing from the cache.\n",
      "│ This may mean Compat [34da2185-b29b-5c13-b0c7-acf172513d20] does not support precompilation but is imported by a module that does.\n",
      "└ @ Base loading.jl:941\n",
      "┌ Warning: Module Compat with build ID 6365704415035 is missing from the cache.\n",
      "│ This may mean Compat [34da2185-b29b-5c13-b0c7-acf172513d20] does not support precompilation but is imported by a module that does.\n",
      "└ @ Base loading.jl:941\n",
      "┌ Warning: Module Compat with build ID 6365704415035 is missing from the cache.\n",
      "│ This may mean Compat [34da2185-b29b-5c13-b0c7-acf172513d20] does not support precompilation but is imported by a module that does.\n",
      "└ @ Base loading.jl:941\n",
      "┌ Info: Precompiling HDF5 [f67ccb44-e63f-5c2f-98bd-6dc0ccc4ba2f]\n",
      "└ @ Base loading.jl:1186\n",
      "┌ Warning: Module Compat with build ID 6365704415035 is missing from the cache.\n",
      "│ This may mean Compat [34da2185-b29b-5c13-b0c7-acf172513d20] does not support precompilation but is imported by a module that does.\n",
      "└ @ Base loading.jl:941\n",
      "┌ Warning: Module Compat with build ID 6365704415035 is missing from the cache.\n",
      "│ This may mean Compat [34da2185-b29b-5c13-b0c7-acf172513d20] does not support precompilation but is imported by a module that does.\n",
      "└ @ Base loading.jl:941\n",
      "┌ Info: Precompiling Blosc [a74b3585-a348-5f62-a45c-50e91977d574]\n",
      "└ @ Base loading.jl:1186\n",
      "┌ Warning: Module Compat with build ID 6365704415035 is missing from the cache.\n",
      "│ This may mean Compat [34da2185-b29b-5c13-b0c7-acf172513d20] does not support precompilation but is imported by a module that does.\n",
      "└ @ Base loading.jl:941\n",
      "┌ Info: Precompiling LegacyStrings [1b4a561d-cfcb-5daf-8433-43fcf8b4bea3]\n",
      "└ @ Base loading.jl:1186\n",
      "WARNING: could not import Base.lcfirst into LegacyStrings\n",
      "WARNING: could not import Base.next into LegacyStrings\n",
      "WARNING: could not import Base.rsearch into LegacyStrings\n",
      "WARNING: could not import Base.search into LegacyStrings\n",
      "WARNING: could not import Base.ucfirst into LegacyStrings\n",
      "┌ Warning: Module Compat with build ID 6365704415035 is missing from the cache.\n",
      "│ This may mean Compat [34da2185-b29b-5c13-b0c7-acf172513d20] does not support precompilation but is imported by a module that does.\n",
      "└ @ Base loading.jl:941\n",
      "WARNING: could not import Base.lcfirst into LegacyStrings\n",
      "WARNING: could not import Base.next into LegacyStrings\n",
      "WARNING: could not import Base.rsearch into LegacyStrings\n",
      "WARNING: could not import Base.search into LegacyStrings\n",
      "WARNING: could not import Base.ucfirst into LegacyStrings\n"
     ]
    }
   ],
   "source": [
    "# import necessary packages\n",
    "Pkg.add(\"JLD\")\n",
    "using JLD\n",
    "using AA228FinalProject\n",
    "using TabularTDLearning\n",
    "using POMDPs\n",
    "using MCTS\n",
    "using ARDESPOT\n",
    "using POMCPOW\n",
    "using POMDPModels\n",
    "using POMDPPolicies\n",
    "using BasicPOMCP\n",
    "using POMDPPolicies\n",
    "using BeliefUpdaters\n",
    "using ParticleFilters\n",
    "using POMDPSimulators\n",
    "using Cairo\n",
    "using Gtk\n",
    "using Random\n",
    "using Printf"
   ]
  },
  {
   "cell_type": "code",
   "execution_count": 3,
   "metadata": {},
   "outputs": [
    {
     "data": {
      "text/plain": [
       "3"
      ]
     },
     "execution_count": 3,
     "metadata": {},
     "output_type": "execute_result"
    }
   ],
   "source": [
    "sensor = Bumper()\n",
    "config = 3 # 1,2, or 3"
   ]
  },
  {
   "cell_type": "code",
   "execution_count": 12,
   "metadata": {},
   "outputs": [
    {
     "data": {
      "text/plain": [
       "RoombaPOMDP{Bumper,Bool}(Bumper(), RoombaMDP{ContinuousRoombaStateSpace,Array{RoombaAct,1}}\n",
       "  v_max: Float64 10.0\n",
       "  om_max: Float64 1.0\n",
       "  dt: Float64 0.5\n",
       "  contact_pen: Float64 -1.0\n",
       "  time_pen: Float64 -0.1\n",
       "  goal_reward: Float64 10.0\n",
       "  stairs_penalty: Float64 -10.0\n",
       "  config: Int64 3\n",
       "  sspace: ContinuousRoombaStateSpace ContinuousRoombaStateSpace()\n",
       "  room: AA228FinalProject.Room\n",
       "  aspace: Array{RoombaAct}((16,))\n",
       "  _amap: Dict{RoombaAct,Int64}\n",
       ")"
      ]
     },
     "execution_count": 12,
     "metadata": {},
     "output_type": "execute_result"
    }
   ],
   "source": [
    "ds = DiscreteRoombaStateSpace(50, 50, 20)\n",
    "v_steps = range(3.0, stop = 4.0, length = 2) \n",
    "om_steps = [-3*pi/4, -pi/2, -pi/4, 0.0, pi/4, pi/2, 3*pi/4, pi]\n",
    "\n",
    "\n",
    "# om_steps = [-5*pi/6, -2*pi/3, -3*pi/4, -pi/2, -pi/3, -pi/4, -pi/6, 0.0, pi/6, pi/4, pi/3, pi/2, 3*pi/4, 2*pi/3, 5*pi/6, pi]\n",
    "aspace = vec(collect(RoombaAct(v,om) for v in v_steps, om in om_steps))\n",
    "\n",
    "# om_steps = range(-1.0 * pi + 0.01, stop = 1.0 * pi, length = 200) \n",
    "\n",
    "# discrete states space, discrete action space\n",
    "m_mcts = RoombaPOMDP(sensor=sensor, mdp=RoombaMDP(sspace=ds, aspace=aspace, config=config));\n",
    "\n",
    "# Cont states space, cont action space\n",
    "m_pomcpow = RoombaPOMDP(sensor=sensor, mdp=RoombaMDP(config=config));\n",
    "                                    \n",
    "# Cont states space, discrete action space\n",
    "m_pomcp = RoombaPOMDP(sensor=sensor, mdp=RoombaMDP(aspace=aspace, config=config));\n",
    "\n",
    "# Cont states space, discrete action space\n",
    "m_ardespot = RoombaPOMDP(sensor=sensor, mdp=RoombaMDP(aspace=aspace, config=config))"
   ]
  },
  {
   "cell_type": "code",
   "execution_count": 38,
   "metadata": {},
   "outputs": [],
   "source": [
    "num_particles = 2000\n",
    "resampler = BumperResampler(num_particles)\n",
    "\n",
    "spf_mcts = SimpleParticleFilter(m_mcts, resampler)\n",
    "spf_pomcpow = SimpleParticleFilter(m_pomcpow, resampler)\n",
    "spf_pomcp = SimpleParticleFilter(m_pomcp, resampler)\n",
    "spf_ardespot = SimpleParticleFilter(m_ardespot, resampler)\n",
    "\n",
    "\n",
    "v_noise_coefficient = 2.0\n",
    "om_noise_coefficient = 0.5\n",
    "\n",
    "belief_updater_mcts = RoombaParticleFilter(spf_mcts, v_noise_coefficient, om_noise_coefficient);\n",
    "belief_updater_pomcp = RoombaParticleFilter(spf_pomcp, v_noise_coefficient, om_noise_coefficient);\n",
    "belief_updater_pomcpow = RoombaParticleFilter(spf_pomcpow, v_noise_coefficient, om_noise_coefficient);\n",
    "belief_updater_ardespot = RoombaParticleFilter(spf_ardespot, v_noise_coefficient, om_noise_coefficient);\n",
    "\n",
    "\n",
    "# POMCP SOLVER\n",
    "pomcp_solver = POMCPSolver()\n",
    "pomcp_policy = solve(pomcp_solver, m_pomcp);\n",
    "\n",
    "# POMCPOW SOLVER\n",
    "pomcpow_solver = POMCPOWSolver(criterion=MaxUCB(20.0))\n",
    "pomcpow_policy = solve(pomcpow_solver, m_pomcpow);\n",
    "\n",
    "# ARDESPOT SOLVER\n",
    "ardespot_solver = DESPOTSolver(max_trials=100, bounds=(-20.0,10.0))\n",
    "# ardespot_solver = DESPOTSolver(max_trials=100, bounds=(DefaultPolicyLB(RandomSolver()), 0.0))\n",
    "ardespot_policy = solve(ardespot_solver, m_ardespot);"
   ]
  },
  {
   "cell_type": "code",
   "execution_count": 39,
   "metadata": {},
   "outputs": [],
   "source": [
    "# first seed the environment\n",
    "Random.seed!(5)\n",
    "\n",
    "# reset the policy\n",
    "# p = ToEnd(0) # here, the argument sets the time-steps elapsed to 0\n",
    "\n",
    "# run the simulation\n",
    "c = @GtkCanvas()\n",
    "win = GtkWindow(c, \"Roomba Environment\", 600, 600)\n",
    "m = m_ardespot\n",
    "policy = ardespot_policy\n",
    "belief_updater = belief_updater_ardespot\n",
    "for (t, step) in enumerate(stepthrough(m, policy, belief_updater, max_steps=100))\n",
    "    @guarded draw(c) do widget\n",
    "        \n",
    "        # the following lines render the room, the particles, and the roomba\n",
    "        ctx = getgc(c)\n",
    "        set_source_rgb(ctx,1,1,1)\n",
    "        paint(ctx)\n",
    "        render(ctx, m, step)\n",
    "        \n",
    "        # render some information that can help with debugging\n",
    "        # here, we render the time-step, the state, and the observation\n",
    "        move_to(ctx,300,400)\n",
    "        show_text(ctx, @sprintf(\"t=%d, state=%s, o=%.3f\",t,string(step.s),step.o))\n",
    "    end\n",
    "    show(c)\n",
    "    sleep(0.1) # to slow down the simulation\n",
    "end"
   ]
  },
  {
   "cell_type": "code",
   "execution_count": 37,
   "metadata": {},
   "outputs": [
    {
     "name": "stdout",
     "output_type": "stream",
     "text": [
      "3\n",
      "5\n"
     ]
    },
    {
     "ename": "ErrorException",
     "evalue": "If all states are terminal, lower and upper bounds should be zero (L_0=-50       , U_0=10        ). (try IndependentBounds(l, u, check_terminal=true))",
     "output_type": "error",
     "traceback": [
      "If all states are terminal, lower and upper bounds should be zero (L_0=-50       , U_0=10        ). (try IndependentBounds(l, u, check_terminal=true))",
      "",
      "Stacktrace:",
      " [1] error(::String) at ./error.jl:33",
      " [2] macro expansion at ./printf.jl:171 [inlined]",
      " [3] bounds_sanity_check(::RoombaPOMDP{Bumper,Bool}, ::ScenarioBelief{RoombaState,Bool,MemorizingSource{MersenneTwister}}, ::Float64, ::Float64) at /Users/heathershen/.julia/packages/ARDESPOT/Xjyi4/src/bounds.jl:12",
      " [4] expand!(::ARDESPOT.DESPOT{RoombaState,RoombaAct,Bool}, ::Int64, ::DESPOTPlanner{RoombaPOMDP{Bumper,Bool},Tuple{Float64,Float64},MemorizingSource{MersenneTwister},MersenneTwister}) at /Users/heathershen/.julia/packages/ARDESPOT/Xjyi4/src/tree.jl:103",
      " [5] explore!(::ARDESPOT.DESPOT{RoombaState,RoombaAct,Bool}, ::Int64, ::DESPOTPlanner{RoombaPOMDP{Bumper,Bool},Tuple{Float64,Float64},MemorizingSource{MersenneTwister},MersenneTwister}) at /Users/heathershen/.julia/packages/ARDESPOT/Xjyi4/src/planner.jl:24",
      " [6] build_despot(::DESPOTPlanner{RoombaPOMDP{Bumper,Bool},Tuple{Float64,Float64},MemorizingSource{MersenneTwister},MersenneTwister}, ::ParticleCollection{RoombaState}) at /Users/heathershen/.julia/packages/ARDESPOT/Xjyi4/src/planner.jl:10",
      " [7] action(::DESPOTPlanner{RoombaPOMDP{Bumper,Bool},Tuple{Float64,Float64},MemorizingSource{MersenneTwister},MersenneTwister}, ::ParticleCollection{RoombaState}) at /Users/heathershen/.julia/packages/ARDESPOT/Xjyi4/src/pomdps_glue.jl:7",
      " [8] action_info at /Users/heathershen/.julia/packages/POMDPModelTools/eHEjm/src/info.jl:30 [inlined]",
      " [9] iterate(::POMDPSimulators.POMDPSimIterator{(:s, :a, :r, :sp, :t, :i, :ai, :b, :o, :bp, :ui),RoombaPOMDP{Bumper,Bool},DESPOTPlanner{RoombaPOMDP{Bumper,Bool},Tuple{Float64,Float64},MemorizingSource{MersenneTwister},MersenneTwister},RoombaParticleFilter,MersenneTwister,ParticleCollection{RoombaState},RoombaState}, ::Tuple{Int64,RoombaState,ParticleCollection{RoombaState}}) at /Users/heathershen/.julia/packages/POMDPSimulators/xyfJM/src/stepthrough.jl:102",
      " [10] iterate at ./generator.jl:44 [inlined]",
      " [11] grow_to!(::Array{Float64,1}, ::Base.Generator{POMDPSimulators.POMDPSimIterator{(:s, :a, :r, :sp, :t, :i, :ai, :b, :o, :bp, :ui),RoombaPOMDP{Bumper,Bool},DESPOTPlanner{RoombaPOMDP{Bumper,Bool},Tuple{Float64,Float64},MemorizingSource{MersenneTwister},MersenneTwister},RoombaParticleFilter,MersenneTwister,ParticleCollection{RoombaState},RoombaState},getfield(Main, Symbol(\"##43#44\"))}, ::Tuple{Int64,RoombaState,ParticleCollection{RoombaState}}) at ./array.jl:700",
      " [12] grow_to!(::Array{Any,1}, ::Base.Generator{POMDPSimulators.POMDPSimIterator{(:s, :a, :r, :sp, :t, :i, :ai, :b, :o, :bp, :ui),RoombaPOMDP{Bumper,Bool},DESPOTPlanner{RoombaPOMDP{Bumper,Bool},Tuple{Float64,Float64},MemorizingSource{MersenneTwister},MersenneTwister},RoombaParticleFilter,MersenneTwister,ParticleCollection{RoombaState},RoombaState},getfield(Main, Symbol(\"##43#44\"))}) at ./array.jl:678",
      " [13] collect(::Base.Generator{POMDPSimulators.POMDPSimIterator{(:s, :a, :r, :sp, :t, :i, :ai, :b, :o, :bp, :ui),RoombaPOMDP{Bumper,Bool},DESPOTPlanner{RoombaPOMDP{Bumper,Bool},Tuple{Float64,Float64},MemorizingSource{MersenneTwister},MersenneTwister},RoombaParticleFilter,MersenneTwister,ParticleCollection{RoombaState},RoombaState},getfield(Main, Symbol(\"##43#44\"))}) at ./array.jl:617",
      " [14] top-level scope at In[37]:13"
     ]
    }
   ],
   "source": [
    "using Statistics\n",
    "\n",
    "total_rewards = []\n",
    "num_exp = 20\n",
    "m = m_ardespot\n",
    "policy = ardespot_policy\n",
    "belief_updater = belief_updater_ardespot\n",
    "\n",
    "for exp in [3, 5, 6, 7, 8, 9, 10, 12, 13, 14, 15, 16, 17, 18, 19, 20, 21]\n",
    "    println(string(exp))\n",
    "    \n",
    "    Random.seed!(exp)\n",
    "    traj_rewards = sum([step.r for step in stepthrough(m,policy,belief_updater, max_steps=100)])\n",
    "    \n",
    "    push!(total_rewards, traj_rewards)\n",
    "end\n",
    "\n",
    "@printf(\"Mean Total Reward: %.3f, StdErr Total Reward: %.3f\", mean(total_rewards), std(total_rewards)/sqrt(num_exp))\n",
    "JLD.save(\"ardespot_total_rewards.jld\", \"ardespot_total_rewards\", total_rewards)"
   ]
  },
  {
   "cell_type": "code",
   "execution_count": 8,
   "metadata": {},
   "outputs": [],
   "source": []
  },
  {
   "cell_type": "code",
   "execution_count": null,
   "metadata": {},
   "outputs": [],
   "source": []
  }
 ],
 "metadata": {
  "kernelspec": {
   "display_name": "Julia 1.0.0",
   "language": "julia",
   "name": "julia-1.0"
  },
  "language_info": {
   "file_extension": ".jl",
   "mimetype": "application/julia",
   "name": "julia",
   "version": "1.0.0"
  }
 },
 "nbformat": 4,
 "nbformat_minor": 2
}
