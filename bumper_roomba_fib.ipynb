{
 "cells": [
  {
   "cell_type": "code",
   "execution_count": 12,
   "metadata": {},
   "outputs": [
    {
     "name": "stdout",
     "output_type": "stream",
     "text": [
      "\u001b[32m\u001b[1m   Cloning\u001b[22m\u001b[39m git-repo `https://github.com/JuliaPOMDP/FIB.jl.git`\n",
      "\u001b[2K\u001b[?25h\u001b[32m\u001b[1m  Updating\u001b[22m\u001b[39m git-repo `https://github.com/JuliaPOMDP/FIB.jl.git`.4 %\n",
      "\u001b[?25l\u001b[2K\u001b[?25h\u001b[32m\u001b[1m Resolving\u001b[22m\u001b[39m package versions...\n",
      "\u001b[32m\u001b[1m Installed\u001b[22m\u001b[39m Tables ───── v0.1.12\n",
      "\u001b[32m\u001b[1m Installed\u001b[22m\u001b[39m DataFrames ─ v0.15.0\n",
      "\u001b[32m\u001b[1m  Updating\u001b[22m\u001b[39m `~/Kapow/Docs/Stanford/Coterm/CS238/Final Project/CS238-final/Project.toml`\n",
      " \u001b[90m [13b007ba]\u001b[39m\u001b[93m ↑ FIB v0.2.0 ⇒ v0.3.0 #master (https://github.com/JuliaPOMDP/FIB.jl.git)\u001b[39m\n",
      "\u001b[32m\u001b[1m  Updating\u001b[22m\u001b[39m `~/Kapow/Docs/Stanford/Coterm/CS238/Final Project/CS238-final/Manifest.toml`\n",
      " \u001b[90m [a93c6f00]\u001b[39m\u001b[93m ↑ DataFrames v0.14.1 ⇒ v0.15.0\u001b[39m\n",
      " \u001b[90m [13b007ba]\u001b[39m\u001b[93m ↑ FIB v0.2.0 ⇒ v0.3.0 #master (https://github.com/JuliaPOMDP/FIB.jl.git)\u001b[39m\n",
      " \u001b[90m [bd369af6]\u001b[39m\u001b[93m ↑ Tables v0.1.11 ⇒ v0.1.12\u001b[39m\n",
      "\u001b[32m\u001b[1m  Updating\u001b[22m\u001b[39m registry at `~/.julia/registries/General`\n",
      "\u001b[32m\u001b[1m  Updating\u001b[22m\u001b[39m git-repo `https://github.com/JuliaRegistries/General.git`\n",
      "\u001b[?25l\u001b[2K\u001b[?25h\u001b[32m\u001b[1m  Updating\u001b[22m\u001b[39m registry at `~/.julia/registries/JuliaPOMDP`\n",
      "\u001b[32m\u001b[1m  Updating\u001b[22m\u001b[39m git-repo `https://github.com/JuliaPOMDP/Registry`\n",
      "\u001b[2K\u001b[?25h[1mFetching:\u001b[22m\u001b[39m [========================================>]  100.0 %.0 %\u001b[32m\u001b[1m  Building\u001b[22m\u001b[39m LibCURL ─→ `~/.julia/packages/LibCURL/OoXMv/deps/build.log`\n",
      "\u001b[32m\u001b[1m  Building\u001b[22m\u001b[39m WinRPM ──→ `~/.julia/packages/WinRPM/Y9QdZ/deps/build.log`\n",
      "\u001b[32m\u001b[1m  Building\u001b[22m\u001b[39m Homebrew → `~/.julia/packages/Homebrew/l8kUw/deps/build.log`\n",
      "\u001b[32m\u001b[1m  Building\u001b[22m\u001b[39m Cairo ───→ `~/.julia/packages/Cairo/CXPG1/deps/build.log`\n"
     ]
    }
   ],
   "source": [
    "# activate project environment\n",
    "# include these lines of code in any future scripts/notebooks\n",
    "#---\n",
    "using Pkg\n",
    "if !haskey(Pkg.installed(), \"AA228FinalProject\")\n",
    "    jenv = joinpath(dirname(@__FILE__()), \".\") # this assumes the notebook is in the same dir\n",
    "    # as the Project.toml file, which should be in top level dir of the project. \n",
    "    # Change accordingly if this is not the case.\n",
    "    Pkg.activate(jenv)\n",
    "    pkg\"add FIB#master\"\n",
    "end\n",
    "Pkg.instantiate()\n",
    "Pkg.build(\"Cairo\")\n",
    "#---"
   ]
  },
  {
   "cell_type": "code",
   "execution_count": 13,
   "metadata": {},
   "outputs": [],
   "source": [
    "# import necessary packages\n",
    "using AA228FinalProject\n",
    "using TabularTDLearning\n",
    "using POMDPs\n",
    "using FIB # For the solver\n",
    "using QMDP\n",
    "using POMDPModels\n",
    "using POMDPPolicies\n",
    "using BeliefUpdaters\n",
    "using ParticleFilters\n",
    "using POMDPSimulators\n",
    "using Cairo\n",
    "using Gtk\n",
    "using Random\n",
    "using Printf"
   ]
  },
  {
   "cell_type": "code",
   "execution_count": 14,
   "metadata": {},
   "outputs": [
    {
     "data": {
      "text/plain": [
       "RoombaPOMDP{Bumper,Bool}(Bumper(), RoombaMDP{DiscreteRoombaStateSpace,Array{RoombaAct,1}}\n",
       "  v_max: Float64 10.0\n",
       "  om_max: Float64 1.0\n",
       "  dt: Float64 0.5\n",
       "  contact_pen: Float64 -1.0\n",
       "  time_pen: Float64 -0.1\n",
       "  goal_reward: Float64 10.0\n",
       "  stairs_penalty: Float64 -10.0\n",
       "  config: Int64 3\n",
       "  room: AA228FinalProject.Room\n",
       "  sspace: DiscreteRoombaStateSpace\n",
       "  aspace: Array{RoombaAct}((16,))\n",
       "  _amap: Dict{RoombaAct,Int64}\n",
       ")"
      ]
     },
     "execution_count": 14,
     "metadata": {},
     "output_type": "execute_result"
    }
   ],
   "source": [
    "sensor = Bumper()\n",
    "config = 3 # 1,2, or 3\n",
    "ds = DiscreteRoombaStateSpace(50, 50, 20)\n",
    "v_steps = [2,5]\n",
    "om_steps = [-3*pi/4, -pi/2, -pi/4, 0.0, pi/4, pi/2, 3*pi/4, pi]\n",
    "\n",
    "aspace = vec(collect(RoombaAct(v,om) for v in v_steps, om in om_steps))\n",
    "m = RoombaPOMDP(sensor=sensor, mdp=RoombaMDP(sspace=ds, aspace=aspace, config=config))\n"
   ]
  },
  {
   "cell_type": "code",
   "execution_count": 15,
   "metadata": {},
   "outputs": [
    {
     "ename": "MethodError",
     "evalue": "MethodError: no method matching reward(::RoombaPOMDP{Bumper,Bool}, ::RoombaState, ::RoombaAct)\nClosest candidates are:\n  reward(::Union{RoombaMDP, RoombaPOMDP}, ::AbstractArray{Float64,1}, ::AbstractArray{Float64,1}, !Matched::AbstractArray{Float64,1}) at /Users/sarahradz/Kapow/Docs/Stanford/Coterm/CS238/Final Project/CS238-final/src/roomba_env.jl:339\n  reward(::Union{MDP, POMDP}, ::Any, ::Any, !Matched::Any) at /Users/sarahradz/.julia/packages/POMDPs/JiYXY/src/pomdp.jl:107\n  reward(!Matched::POMDPModelTools.FullyObservablePOMDP{S,A}, ::S, ::A) where {S, A} at /Users/sarahradz/.julia/packages/POMDPModelTools/eHEjm/src/fully_observable_pomdp.jl:41\n  ...",
     "output_type": "error",
     "traceback": [
      "MethodError: no method matching reward(::RoombaPOMDP{Bumper,Bool}, ::RoombaState, ::RoombaAct)\nClosest candidates are:\n  reward(::Union{RoombaMDP, RoombaPOMDP}, ::AbstractArray{Float64,1}, ::AbstractArray{Float64,1}, !Matched::AbstractArray{Float64,1}) at /Users/sarahradz/Kapow/Docs/Stanford/Coterm/CS238/Final Project/CS238-final/src/roomba_env.jl:339\n  reward(::Union{MDP, POMDP}, ::Any, ::Any, !Matched::Any) at /Users/sarahradz/.julia/packages/POMDPs/JiYXY/src/pomdp.jl:107\n  reward(!Matched::POMDPModelTools.FullyObservablePOMDP{S,A}, ::S, ::A) where {S, A} at /Users/sarahradz/.julia/packages/POMDPModelTools/eHEjm/src/fully_observable_pomdp.jl:41\n  ...",
      "",
      "Stacktrace:",
      " [1] #solve#2(::Base.Iterators.Pairs{Union{},Union{},Tuple{},NamedTuple{(),Tuple{}}}, ::Function, ::FIBSolver, ::RoombaPOMDP{Bumper,Bool}) at /Users/sarahradz/.julia/packages/FIB/IMGXy/src/vanilla.jl:32",
      " [2] solve(::FIBSolver, ::RoombaPOMDP{Bumper,Bool}) at /Users/sarahradz/.julia/packages/FIB/IMGXy/src/vanilla.jl:13",
      " [3] top-level scope at In[15]:12"
     ]
    }
   ],
   "source": [
    "num_particles = 2000\n",
    "resampler = BumperResampler(num_particles)\n",
    "\n",
    "spf = SimpleParticleFilter(m, resampler)\n",
    "\n",
    "v_noise_coefficient = 2.0\n",
    "om_noise_coefficient = 0.5\n",
    "\n",
    "belief_updater = RoombaParticleFilter(spf, v_noise_coefficient, om_noise_coefficient);\n",
    "\n",
    "solver = FIBSolver(max_iterations=2, tolerance=1e-3, verbose=true)\n",
    "policy = solve(solver, m)"
   ]
  },
  {
   "cell_type": "code",
   "execution_count": null,
   "metadata": {},
   "outputs": [],
   "source": [
    "Pkg.build(\"HDF5\")\n",
    "Pkg.add(\"JLD\")\n",
    "using JLD"
   ]
  },
  {
   "cell_type": "code",
   "execution_count": null,
   "metadata": {},
   "outputs": [],
   "source": [
    "JLD.save(\"qmdp_policy.jld\", \"policy\", policy)"
   ]
  },
  {
   "cell_type": "code",
   "execution_count": null,
   "metadata": {},
   "outputs": [],
   "source": [
    "@load \"qmdp_policy.jld\""
   ]
  },
  {
   "cell_type": "code",
   "execution_count": 11,
   "metadata": {},
   "outputs": [
    {
     "ename": "MethodError",
     "evalue": "MethodError: no method matching stateindex(::RoombaState)\nClosest candidates are:\n  stateindex(!Matched::POMDPModelTools.FullyObservablePOMDP{S,A}, !Matched::S) where {S, A} at /Users/heathershen/.julia/packages/POMDPModelTools/eHEjm/src/fully_observable_pomdp.jl:46\n  stateindex(!Matched::POMDPModelTools.UnderlyingMDP{P,Int64,A}, !Matched::Int64) where {P, A} at /Users/heathershen/.julia/packages/POMDPModelTools/eHEjm/src/underlying_mdp.jl:29\n  stateindex(!Matched::POMDPModelTools.UnderlyingMDP{P,Bool,A}, !Matched::Bool) where {P, A} at /Users/heathershen/.julia/packages/POMDPModelTools/eHEjm/src/underlying_mdp.jl:30\n  ...",
     "output_type": "error",
     "traceback": [
      "MethodError: no method matching stateindex(::RoombaState)\nClosest candidates are:\n  stateindex(!Matched::POMDPModelTools.FullyObservablePOMDP{S,A}, !Matched::S) where {S, A} at /Users/heathershen/.julia/packages/POMDPModelTools/eHEjm/src/fully_observable_pomdp.jl:46\n  stateindex(!Matched::POMDPModelTools.UnderlyingMDP{P,Int64,A}, !Matched::Int64) where {P, A} at /Users/heathershen/.julia/packages/POMDPModelTools/eHEjm/src/underlying_mdp.jl:29\n  stateindex(!Matched::POMDPModelTools.UnderlyingMDP{P,Bool,A}, !Matched::Bool) where {P, A} at /Users/heathershen/.julia/packages/POMDPModelTools/eHEjm/src/underlying_mdp.jl:30\n  ...",
      "",
      "Stacktrace:",
      " [1] initialstate(::RoombaPOMDP{Bumper,Bool}, ::MersenneTwister) at /Users/heathershen/Desktop/Stanford/coterm/aut 2018/cs238/CS238-final/src/roomba_env.jl:210",
      " [2] rand(::MersenneTwister, ::AA228FinalProject.RoombaInitialDistribution{RoombaPOMDP{Bumper,Bool}}) at /Users/heathershen/Desktop/Stanford/coterm/aut 2018/cs238/CS238-final/src/roomba_env.jl:420",
      " [3] get_initialstate(::StepSimulator, ::AA228FinalProject.RoombaInitialDistribution{RoombaPOMDP{Bumper,Bool}}) at /Users/heathershen/.julia/packages/POMDPSimulators/xyfJM/src/history_recorder.jl:256",
      " [4] simulate(::StepSimulator, ::RoombaPOMDP{Bumper,Bool}, ::AlphaVectorPolicy{RoombaPOMDP{Bumper,Bool},RoombaAct}, ::RoombaParticleFilter, ::AA228FinalProject.RoombaInitialDistribution{RoombaPOMDP{Bumper,Bool}}, ::Nothing) at /Users/heathershen/.julia/packages/POMDPSimulators/xyfJM/src/stepthrough.jl:31",
      " [5] simulate at /Users/heathershen/.julia/packages/POMDPSimulators/xyfJM/src/stepthrough.jl:30 [inlined]",
      " [6] simulate(::StepSimulator, ::RoombaPOMDP{Bumper,Bool}, ::AlphaVectorPolicy{RoombaPOMDP{Bumper,Bool},RoombaAct}, ::RoombaParticleFilter) at /Users/heathershen/.julia/packages/POMDPSimulators/xyfJM/src/stepthrough.jl:26",
      " [7] #stepthrough#19(::Base.Iterators.Pairs{Symbol,Int64,Tuple{Symbol},NamedTuple{(:max_steps,),Tuple{Int64}}}, ::Function, ::RoombaPOMDP{Bumper,Bool}, ::AlphaVectorPolicy{RoombaPOMDP{Bumper,Bool},RoombaAct}, ::RoombaParticleFilter) at /Users/heathershen/.julia/packages/POMDPSimulators/xyfJM/src/stepthrough.jl:222",
      " [8] (::getfield(POMDPSimulators, Symbol(\"#kw##stepthrough\")))(::NamedTuple{(:max_steps,),Tuple{Int64}}, ::typeof(stepthrough), ::RoombaPOMDP{Bumper,Bool}, ::AlphaVectorPolicy{RoombaPOMDP{Bumper,Bool},RoombaAct}, ::RoombaParticleFilter) at ./none:0",
      " [9] top-level scope at In[11]:7"
     ]
    }
   ],
   "source": [
    "# first seed the environment\n",
    "Random.seed!(5)\n",
    "\n",
    "# run the simulation\n",
    "c = @GtkCanvas()\n",
    "win = GtkWindow(c, \"Roomba Environment\", 600, 600)\n",
    "for (t, step) in enumerate(stepthrough(m, policy, belief_updater, max_steps=100))\n",
    "    @guarded draw(c) do widget\n",
    "        \n",
    "        # the following lines render the room, the particles, and the roomba\n",
    "        ctx = getgc(c)\n",
    "        set_source_rgb(ctx,1,1,1)\n",
    "        paint(ctx)\n",
    "        render(ctx, m, step)\n",
    "        \n",
    "        # render some information that can help with debugging\n",
    "        # here, we render the time-step, the state, and the observation\n",
    "        move_to(ctx,300,400)\n",
    "        show_text(ctx, @sprintf(\"t=%d, state=%s, o=%.3f\",t,string(step.s),step.o))\n",
    "    end\n",
    "    show(c)\n",
    "    sleep(0.1) # to slow down the simulation\n",
    "end"
   ]
  },
  {
   "cell_type": "code",
   "execution_count": null,
   "metadata": {},
   "outputs": [],
   "source": []
  }
 ],
 "metadata": {
  "kernelspec": {
   "display_name": "Julia 1.0.1",
   "language": "julia",
   "name": "julia-1.0"
  },
  "language_info": {
   "file_extension": ".jl",
   "mimetype": "application/julia",
   "name": "julia",
   "version": "1.0.2"
  }
 },
 "nbformat": 4,
 "nbformat_minor": 2
}
